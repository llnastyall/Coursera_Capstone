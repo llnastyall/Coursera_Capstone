{
    "cells": [
        {
            "cell_type": "markdown",
            "metadata": {
                "collapsed": true
            },
            "source": "# Coursera Capstone Project\n"
        },
        {
            "cell_type": "markdown",
            "metadata": {},
            "source": "### Submission (1st week only so far):"
        },
        {
            "cell_type": "markdown",
            "metadata": {},
            "source": "1st week:\n - A description of the problem and a discussion of the background. (15 marks)\n - A description of the data and how it will be used to solve the problem. (15 marks)\n\n2nd week:\n - A link to your Notebook on your Github repository, showing your code. (15 marks)\n - A full report consisting of all of the following components (15 marks):\n        - Introduction where you discuss the business problem and who would be interested in this project.\n        - Data where you describe the data that will be used to solve the problem and the source of the data.\n        - Methodology section which represents the main component of the report where you discuss and describe any exploratory data analysis that you did, any inferential statistical testing that you performed, if any, and what machine learnings were used and why.\n        - Results section where you discuss the results.\n        - Discussion section where you discuss any observations you noted and any recommendations you can make based on the results.\n        - Conclusion section where you conclude the report.\n - Your choice of a presentation or blogpost. (10 marks)"
        },
        {
            "cell_type": "markdown",
            "metadata": {},
            "source": "## 1. Introduction"
        },
        {
            "cell_type": "markdown",
            "metadata": {},
            "source": "### 1.1. Description of the problem and a discussion of the background."
        },
        {
            "cell_type": "markdown",
            "metadata": {},
            "source": "###### \"Clearly define a problem or an idea of your choice, where you would need to leverage the Foursquare location data to solve or execute. Remember that data science problems always target an audience and are meant to help a group of stakeholders solve a problem, so make sure that you explicitly describe your audience and why they would care about your problem.\""
        },
        {
            "attachments": {},
            "cell_type": "markdown",
            "metadata": {},
            "source": "London is the most populated city in the UK. It is very attracted to tourists as well as immigrants looking to move for a living. Considering all the benefits London can bring, it is also highly competitive, no surprise that cost of living is very high. It is always a challenge to find the most suitable place to rent a flat and at the same time to be quite close to all needed venues.\n\nThis Project would help the stakeholders to take a thoughtful decision on choosing the best borough to rent a flat in London based on the distribution of various facilities in and around that borough. As an example, this project would compare 2 randomly picked boroughs and analyse the top 10 most common venues in each of those two boroughs based on number of visits. Also, this project will use Machine Lerning algotihms to cluster the venues based on the unique characteristics of categories, for example: restaurants, park, coffee shop, gym etc. This would give a better understanding of the similarities and dissimilarities between the two chosen boroughs.\n\nAs the main goal, we would like to provide targeted information near property to let out for real estate agents.\n\nBeing target audience, real estate agents would benefit the most from this project, as they compete for the same customer, while customers want to find the most appropriate flat for themselves. Deep knowledge of the area and borough brings a competitive advantage."
        },
        {
            "cell_type": "markdown",
            "metadata": {},
            "source": "### 1.2. Description of the data and how it will be used to solve the problem"
        },
        {
            "cell_type": "markdown",
            "metadata": {},
            "source": "###### Describe the data that you will be using to solve the problem or execute your idea. Remember that you will need to use the Foursquare location data to solve the problem or execute your idea. You can absolutely use other datasets in combination with the Foursquare location data. So make sure that you provide adequate explanation and discussion, with examples, of the data that you will be using, even if it is only Foursquare location data."
        },
        {
            "cell_type": "markdown",
            "metadata": {},
            "source": "Geo codes in London will be collected from http://geoportal.statistics.gov.uk/datasets/wards-december-2016-full-clipped-boundaries-in-the-uk/ . This will allow us to be able to plot the London borough boundaries on the map. \n\nLondon average house prices in boroughs will be taken from: https://www.cityam.com/london-house-prices-how-london-boroughs-house-prices-have-changed-since-the-last-election/\n\nI will also use the FourSquare API to collect data about locations of different venues in the boroughs. I will connect to Foursquare API using the Client ID and Client Secret.\n\nFurthermore, various python libraries will be used as imported below to create maps and machine learning models:\n - Pandas - Library for Data Analysis\n - NumPy \u2013 Library to handle data in a vectorized manner\n - JSON \u2013 Library to handle JSON files\n - Geopy \u2013 To retrieve Location Data\n - Requests \u2013 Library to handle http requests\n - Matplotlib \u2013 Python Plotting Module\n - Sklearn \u2013 Python machine learning Library\n - Folium \u2013 Map rendering Library\n\nThe combination of this data will help us to gather insights and provide efficient recommendations to our target audience based on the results."
        },
        {
            "cell_type": "markdown",
            "metadata": {},
            "source": "#### Importing Libraries"
        },
        {
            "cell_type": "code",
            "execution_count": 1,
            "metadata": {},
            "outputs": [
                {
                    "name": "stdout",
                    "output_type": "stream",
                    "text": "Solving environment: done\n\n## Package Plan ##\n\n  environment location: /opt/conda/envs/Python36\n\n  added / updated specs: \n    - geopy\n\n\nThe following packages will be downloaded:\n\n    package                    |            build\n    ---------------------------|-----------------\n    certifi-2019.11.28         |           py36_0         149 KB  conda-forge\n    ca-certificates-2019.11.28 |       hecc5488_0         145 KB  conda-forge\n    geographiclib-1.50         |             py_0          34 KB  conda-forge\n    geopy-1.20.0               |             py_0          57 KB  conda-forge\n    openssl-1.1.1d             |       h516909a_0         2.1 MB  conda-forge\n    ------------------------------------------------------------\n                                           Total:         2.5 MB\n\nThe following NEW packages will be INSTALLED:\n\n    geographiclib:   1.50-py_0         conda-forge\n    geopy:           1.20.0-py_0       conda-forge\n\nThe following packages will be UPDATED:\n\n    ca-certificates: 2019.11.27-0                  --> 2019.11.28-hecc5488_0 conda-forge\n    certifi:         2019.11.28-py36_0             --> 2019.11.28-py36_0     conda-forge\n\nThe following packages will be DOWNGRADED:\n\n    openssl:         1.1.1d-h7b6447c_3             --> 1.1.1d-h516909a_0     conda-forge\n\n\nDownloading and Extracting Packages\ncertifi-2019.11.28   | 149 KB    | ##################################### | 100% \nca-certificates-2019 | 145 KB    | ##################################### | 100% \ngeographiclib-1.50   | 34 KB     | ##################################### | 100% \ngeopy-1.20.0         | 57 KB     | ##################################### | 100% \nopenssl-1.1.1d       | 2.1 MB    | ##################################### | 100% \nPreparing transaction: done\nVerifying transaction: done\nExecuting transaction: done\nSolving environment: done\n\n## Package Plan ##\n\n  environment location: /opt/conda/envs/Python36\n\n  added / updated specs: \n    - folium=0.5.0\n\n\nThe following packages will be downloaded:\n\n    package                    |            build\n    ---------------------------|-----------------\n    folium-0.5.0               |             py_0          45 KB  conda-forge\n    altair-4.0.0               |             py_0         606 KB  conda-forge\n    vincent-0.4.4              |             py_1          28 KB  conda-forge\n    branca-0.3.1               |             py_0          25 KB  conda-forge\n    ------------------------------------------------------------\n                                           Total:         704 KB\n\nThe following NEW packages will be INSTALLED:\n\n    altair:  4.0.0-py_0 conda-forge\n    branca:  0.3.1-py_0 conda-forge\n    folium:  0.5.0-py_0 conda-forge\n    vincent: 0.4.4-py_1 conda-forge\n\n\nDownloading and Extracting Packages\nfolium-0.5.0         | 45 KB     | ##################################### | 100% \naltair-4.0.0         | 606 KB    | ##################################### | 100% \nvincent-0.4.4        | 28 KB     | ##################################### | 100% \nbranca-0.3.1         | 25 KB     | ##################################### | 100% \nPreparing transaction: done\nVerifying transaction: done\nExecuting transaction: done\nLibraries imported.\n"
                }
            ],
            "source": "import numpy as np # library to handle data in a vectorized manner\nimport time\nimport pandas as pd # library for data analsysis\npd.set_option('display.max_columns', None)\npd.set_option('display.max_rows', None)\n\nimport json # library to handle JSON files\nimport requests # library to handle requests\nfrom pandas.io.json import json_normalize # tranform JSON file into a pandas dataframe\n\n\n!conda install -c conda-forge geopy --yes \nfrom geopy.geocoders import Nominatim # convert an address into latitude and longitude values\n\n!conda install -c conda-forge folium=0.5.0 --yes \nimport folium # map rendering library\nfrom folium import plugins\n\n# Matplotlib and associated plotting modules\nimport matplotlib.cm as cm\nimport matplotlib.colors as colors\n\nimport seaborn as sns\n\n# import k-means from clustering stage\nfrom sklearn.cluster import KMeans\n\n\n\nprint('Libraries imported.')"
        }
    ],
    "metadata": {
        "kernelspec": {
            "display_name": "Python 3.6",
            "language": "python",
            "name": "python3"
        },
        "language_info": {
            "codemirror_mode": {
                "name": "ipython",
                "version": 3
            },
            "file_extension": ".py",
            "mimetype": "text/x-python",
            "name": "python",
            "nbconvert_exporter": "python",
            "pygments_lexer": "ipython3",
            "version": "3.6.8"
        }
    },
    "nbformat": 4,
    "nbformat_minor": 1
}